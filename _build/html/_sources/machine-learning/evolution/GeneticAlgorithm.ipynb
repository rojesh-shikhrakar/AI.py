{
 "cells": [
  {
   "cell_type": "markdown",
   "id": "f2a1df79-8be1-4c9e-adee-0f961ce86628",
   "metadata": {},
   "source": [
    "# Genetic Algorithm (GA)\n",
    "\n",
    "GA is a metaheuristic inspired by the process of natural selection. Computer simulation of evolution by biologists became more common in the early 1960s. Genetic Algorithm, proposed by John Henry Holland (1975) became most popular. GA evolves population to obatin optimal solution for a given problem based on following ideas:\n",
    "\n",
    "- Valid solutions to the problem can be represented as genes $g \\in \\Gamma$ (can be a numeric sequence or bit vectors)\n",
    "- Crossover mechanism allows us to combine two solution genes $g1, g2 \\in \\Gamma$ together to obtain a new valid solution $\\Gamma \\times \\Gamma \\rightarrow \\Gamma$\n",
    "- Selection mechanism allows to select best optimal solutions based on some fitness function $f:\\Gamma \\rightarrow \\mathbb R$\n",
    "- Mutations are introduced to add noise to the solutions which prevents geting stuck at the local minimum  $\\Gamma \\rightarrow \\Gamma$\n",
    "\n",
    "Steps:\n",
    "\n",
    "1. Select an initial population $G \\subset \\Gamma$\n",
    "2. Perform Crossover, mutation or both Randomly\n",
    "3. Test fitness and repeat step 2 until small value of fit or until number of generations is met\n"
   ]
  },
  {
   "cell_type": "code",
   "execution_count": 13,
   "id": "452b79f8-0394-408f-92a0-182702841b19",
   "metadata": {
    "tags": []
   },
   "outputs": [],
   "source": [
    "using BenchmarkTools"
   ]
  },
  {
   "cell_type": "markdown",
   "id": "6c891d34-e7ce-4d36-9d91-5f65f0dbcb34",
   "metadata": {},
   "source": [
    "## N-Queens Problem\n",
    "\n",
    "Place N queens on a chess board of the size N X N in such a way that they do not attack each other."
   ]
  },
  {
   "cell_type": "code",
   "execution_count": 1,
   "id": "f85f6db6-6e8f-43a7-85b2-3cf03610e2fd",
   "metadata": {},
   "outputs": [],
   "source": [
    "struct ChessBoard\n",
    "    N::Int\n",
    "    state::Matrix{Bool}\n",
    "    function ChessBoard(N::Int)\n",
    "        @assert N > 0\n",
    "        new(N, fill(false,N,N))\n",
    "    end\n",
    "end"
   ]
  },
  {
   "cell_type": "code",
   "execution_count": null,
   "id": "a41c6ee2-3765-4527-9711-cc10d016b993",
   "metadata": {},
   "outputs": [],
   "source": [
    "https://github.com/microsoft/AI-For-Beginners/blob/main/lessons/6-Other/21-GeneticAlgorithms/Genetic.ipynb"
   ]
  },
  {
   "cell_type": "code",
   "execution_count": 36,
   "id": "6ccacc3e-85ae-43c9-8d16-710fad9298b5",
   "metadata": {
    "tags": []
   },
   "outputs": [
    {
     "data": {
      "text/plain": [
       "5×5 Matrix{Int64}:\n",
       " 4  1  1  5  2\n",
       " 3  1  1  3  3\n",
       " 2  2  2  3  5\n",
       " 2  1  4  3  5\n",
       " 2  4  3  1  5"
      ]
     },
     "execution_count": 36,
     "metadata": {},
     "output_type": "execute_result"
    }
   ],
   "source": [
    "z = rand([1,2,3,4,5],5,5)"
   ]
  },
  {
   "cell_type": "code",
   "execution_count": 46,
   "id": "df573ccb-073e-4273-a1a6-41c5a5a3ee28",
   "metadata": {
    "tags": []
   },
   "outputs": [
    {
     "data": {
      "text/plain": [
       "2-element Vector{Int64}:\n",
       " 2\n",
       " 4"
      ]
     },
     "execution_count": 46,
     "metadata": {},
     "output_type": "execute_result"
    }
   ],
   "source": [
    "\n",
    "diag(z',3)"
   ]
  },
  {
   "cell_type": "code",
   "execution_count": 24,
   "id": "4780807b-da80-4f15-b313-7072b4b70889",
   "metadata": {
    "tags": []
   },
   "outputs": [
    {
     "data": {
      "text/plain": [
       "checkBoard (generic function with 1 method)"
      ]
     },
     "execution_count": 24,
     "metadata": {},
     "output_type": "execute_result"
    }
   ],
   "source": [
    "using LinearAlgebra:diag\n",
    "\n",
    "function checkBoard(board::ChessBoard)\n",
    "    sum(board.state, dims=2) < 2\n",
    "    sum(board.state, dims=1) < 2\n",
    "    # diaonals\n",
    "    \n",
    "end"
   ]
  },
  {
   "cell_type": "code",
   "execution_count": 23,
   "id": "46af31c7-b764-4b64-b911-000cc7d63363",
   "metadata": {
    "tags": []
   },
   "outputs": [
    {
     "data": {
      "text/plain": [
       "BenchmarkTools.Trial: 10000 samples with 746 evaluations.\n",
       " Range \u001b[90m(\u001b[39m\u001b[36m\u001b[1mmin\u001b[22m\u001b[39m … \u001b[35mmax\u001b[39m\u001b[90m):  \u001b[39m\u001b[36m\u001b[1m169.414 ns\u001b[22m\u001b[39m … \u001b[35m  2.819 μs\u001b[39m  \u001b[90m┊\u001b[39m GC \u001b[90m(\u001b[39mmin … max\u001b[90m): \u001b[39m0.00% … 91.19%\n",
       " Time  \u001b[90m(\u001b[39m\u001b[34m\u001b[1mmedian\u001b[22m\u001b[39m\u001b[90m):     \u001b[39m\u001b[34m\u001b[1m179.812 ns               \u001b[22m\u001b[39m\u001b[90m┊\u001b[39m GC \u001b[90m(\u001b[39mmedian\u001b[90m):    \u001b[39m0.00%\n",
       " Time  \u001b[90m(\u001b[39m\u001b[32m\u001b[1mmean\u001b[22m\u001b[39m ± \u001b[32mσ\u001b[39m\u001b[90m):   \u001b[39m\u001b[32m\u001b[1m199.612 ns\u001b[22m\u001b[39m ± \u001b[32m182.684 ns\u001b[39m  \u001b[90m┊\u001b[39m GC \u001b[90m(\u001b[39mmean ± σ\u001b[90m):  \u001b[39m7.85% ±  7.88%\n",
       "\n",
       "  \u001b[39m \u001b[39m▁\u001b[39m▄\u001b[39m▇\u001b[39m█\u001b[39m█\u001b[39m█\u001b[34m▇\u001b[39m\u001b[39m▇\u001b[39m▇\u001b[39m▆\u001b[39m▆\u001b[39m▅\u001b[39m▅\u001b[39m▄\u001b[39m▄\u001b[39m▃\u001b[39m▂\u001b[39m▂\u001b[39m▁\u001b[39m▁\u001b[32m▂\u001b[39m\u001b[39m▁\u001b[39m▁\u001b[39m▁\u001b[39m▂\u001b[39m▁\u001b[39m▁\u001b[39m \u001b[39m▁\u001b[39m▁\u001b[39m▁\u001b[39m▁\u001b[39m▁\u001b[39m▁\u001b[39m \u001b[39m \u001b[39m \u001b[39m \u001b[39m \u001b[39m \u001b[39m \u001b[39m \u001b[39m \u001b[39m \u001b[39m \u001b[39m \u001b[39m \u001b[39m \u001b[39m \u001b[39m \u001b[39m \u001b[39m \u001b[39m \u001b[39m \u001b[39m \u001b[39m \u001b[39m \u001b[39m \u001b[39m▁\u001b[39m \u001b[39m \u001b[39m▃\n",
       "  \u001b[39m▇\u001b[39m█\u001b[39m█\u001b[39m█\u001b[39m█\u001b[39m█\u001b[39m█\u001b[34m█\u001b[39m\u001b[39m█\u001b[39m█\u001b[39m█\u001b[39m█\u001b[39m█\u001b[39m█\u001b[39m█\u001b[39m█\u001b[39m█\u001b[39m█\u001b[39m█\u001b[39m█\u001b[39m█\u001b[32m█\u001b[39m\u001b[39m█\u001b[39m█\u001b[39m█\u001b[39m█\u001b[39m█\u001b[39m█\u001b[39m█\u001b[39m█\u001b[39m█\u001b[39m█\u001b[39m█\u001b[39m█\u001b[39m█\u001b[39m█\u001b[39m█\u001b[39m▇\u001b[39m█\u001b[39m█\u001b[39m▇\u001b[39m▇\u001b[39m▆\u001b[39m▆\u001b[39m▅\u001b[39m▃\u001b[39m▅\u001b[39m▁\u001b[39m▃\u001b[39m▃\u001b[39m▄\u001b[39m▃\u001b[39m▄\u001b[39m▃\u001b[39m▄\u001b[39m▃\u001b[39m▆\u001b[39m▆\u001b[39m█\u001b[39m█\u001b[39m█\u001b[39m \u001b[39m█\n",
       "  169 ns\u001b[90m        \u001b[39m\u001b[90mHistogram: \u001b[39m\u001b[90m\u001b[1mlog(\u001b[22m\u001b[39m\u001b[90mfrequency\u001b[39m\u001b[90m\u001b[1m)\u001b[22m\u001b[39m\u001b[90m by time\u001b[39m        259 ns \u001b[0m\u001b[1m<\u001b[22m\n",
       "\n",
       " Memory estimate\u001b[90m: \u001b[39m\u001b[33m464 bytes\u001b[39m, allocs estimate\u001b[90m: \u001b[39m\u001b[33m3\u001b[39m."
      ]
     },
     "execution_count": 23,
     "metadata": {},
     "output_type": "execute_result"
    }
   ],
   "source": [
    "# Brute-Force Solution\n",
    "\n",
    "function checkwins(i_new, j_new, l)\n",
    "    for (i,j) in enumerate(l)\n",
    "        if (j == j_new)\n",
    "            return false\n",
    "        else\n",
    "            (abs(j-j_new) == i_new-i) && return false\n",
    "        end\n",
    "    end\n",
    "    return true \n",
    "end\n",
    "\n",
    "function nqueens(l, N=9, disp=false)\n",
    "    if length(l) == N\n",
    "        disp && print(l)\n",
    "        return true\n",
    "    else\n",
    "        for j in 1:N+1\n",
    "            if checkwins(length(l)+1,j,1)\n",
    "                append!(l,j)\n",
    "                if nqueens(l,N,disp)\n",
    "                    return true\n",
    "                else\n",
    "                    pop!(l)\n",
    "                end\n",
    "            end\n",
    "        end\n",
    "        return false\n",
    "    end\n",
    "end\n",
    "\n",
    "@benchmark nqueens([],20)"
   ]
  },
  {
   "cell_type": "code",
   "execution_count": null,
   "id": "07638ad2-80bf-4401-804e-dacea05fccb0",
   "metadata": {},
   "outputs": [],
   "source": [
    "# solution based on https://kushalvyas.github.io/gen_8Q.html\n",
    "\n",
    "# Fitness function: number of queens that attack each other"
   ]
  },
  {
   "cell_type": "code",
   "execution_count": null,
   "id": "b4b8f944-ec97-44e7-a8b5-8a5351c05cf4",
   "metadata": {},
   "outputs": [],
   "source": []
  },
  {
   "cell_type": "markdown",
   "id": "2361ca49-a75c-4d41-bbfc-8319c4724c19",
   "metadata": {},
   "source": [
    "## Diophantine equation \n",
    "\n",
    "An equation with integer roots and integer coefficients. For example, consider the following equation:\n",
    "$x + 2y +3z=30$\n",
    "\n",
    "Find integer roots $x,y,z \\in \\mathbb N$that satisfy this equation.\n",
    "\n",
    "Hints:\n",
    "\n",
    "You can consider roots to be in the interval [0;30]\n",
    "As a gene, consider using the list of root values"
   ]
  },
  {
   "cell_type": "code",
   "execution_count": null,
   "id": "40226433-afba-47d1-81e5-d70e2ba6b34e",
   "metadata": {},
   "outputs": [],
   "source": []
  }
 ],
 "metadata": {
  "kernelspec": {
   "display_name": "base",
   "language": "python",
   "name": "python3"
  },
  "language_info": {
   "file_extension": ".jl",
   "mimetype": "application/julia",
   "name": "python",
   "version": "3.12.3"
  }
 },
 "nbformat": 4,
 "nbformat_minor": 5
}
